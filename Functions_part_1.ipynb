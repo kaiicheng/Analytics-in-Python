{
 "cells": [
  {
   "cell_type": "markdown",
   "metadata": {},
   "source": [
    "<h1>Functions</h1>"
   ]
  },
  {
   "cell_type": "markdown",
   "metadata": {},
   "source": [
    "<h2>Calling a function</h2>"
   ]
  },
  {
   "cell_type": "code",
   "execution_count": 1,
   "metadata": {},
   "outputs": [
    {
     "name": "stdout",
     "output_type": "stream",
     "text": [
      "7\n"
     ]
    }
   ],
   "source": [
    "x=5\n",
    "y=7\n",
    "z=max(x,y) #max is the function. x and y are the arguments\n",
    "print(z) #print is the function. z is the argument\n"
   ]
  },
  {
   "cell_type": "markdown",
   "metadata": {},
   "source": [
    "<h2>Installing libraries and importing functions</h2>"
   ]
  },
  {
   "cell_type": "code",
   "execution_count": 2,
   "metadata": {},
   "outputs": [
    {
     "name": "stdout",
     "output_type": "stream",
     "text": [
      "Requirement already satisfied: easygui in c:\\users\\paul\\anaconda3\\lib\\site-packages (0.98.1)\n"
     ]
    },
    {
     "name": "stderr",
     "output_type": "stream",
     "text": [
      "WARNING: You are using pip version 20.2.2; however, version 20.2.3 is available.\n",
      "You should consider upgrading via the 'c:\\users\\paul\\anaconda3\\python.exe -m pip install --upgrade pip' command.\n"
     ]
    }
   ],
   "source": [
    "!pip install easygui \n",
    "#pip: python installer program\n",
    "# ! run the program from the shell (not from python)\n",
    "# easygui: a python library for GUI widgets"
   ]
  },
  {
   "cell_type": "code",
   "execution_count": 3,
   "metadata": {},
   "outputs": [
    {
     "data": {
      "text/plain": [
       "'OK'"
      ]
     },
     "execution_count": 3,
     "metadata": {},
     "output_type": "execute_result"
    }
   ],
   "source": [
    "import easygui #Imports easygui into the current namespace. We now have access to functiona and objects in this library\n",
    "easygui.msgbox(\"To be or not to be\",\"What Hamlet elocuted\") #msgbox is a function in easygui."
   ]
  },
  {
   "cell_type": "markdown",
   "metadata": {},
   "source": [
    "<h2>Importing functions</h2>\n"
   ]
  },
  {
   "cell_type": "code",
   "execution_count": 4,
   "metadata": {},
   "outputs": [
    {
     "data": {
      "text/plain": [
       "5.850640990524029"
      ]
     },
     "execution_count": 4,
     "metadata": {},
     "output_type": "execute_result"
    }
   ],
   "source": [
    "import math #imports the math namespace into our program namespace\n",
    "math.sqrt(34.23) #Functions in the math namespace have to be disambiguated"
   ]
  },
  {
   "cell_type": "code",
   "execution_count": 5,
   "metadata": {},
   "outputs": [
    {
     "data": {
      "text/plain": [
       "5.850640990524029"
      ]
     },
     "execution_count": 5,
     "metadata": {},
     "output_type": "execute_result"
    }
   ],
   "source": [
    "import math as m #imports the math namespace into our program namespace but gives it the name 'm'\n",
    "m.sqrt(34.23) #Functions in the math namespace have to be disambiguated using the name 'm' rather than 'math'"
   ]
  },
  {
   "cell_type": "code",
   "execution_count": null,
   "metadata": {},
   "outputs": [],
   "source": []
  },
  {
   "cell_type": "code",
   "execution_count": 6,
   "metadata": {},
   "outputs": [
    {
     "data": {
      "text/plain": [
       "5.850640990524029"
      ]
     },
     "execution_count": 6,
     "metadata": {},
     "output_type": "execute_result"
    }
   ],
   "source": [
    "from math import sqrt #imports the sqrt function into our program namespace. No other math functions are accessible\n",
    "sqrt(34.23) #No disambiguation necessary"
   ]
  },
  {
   "cell_type": "markdown",
   "metadata": {},
   "source": [
    "<h3>Returning values from a function</h3>\n",
    "The <b>return</b> statement tells a function what to return to the calling program"
   ]
  },
  {
   "cell_type": "code",
   "execution_count": 7,
   "metadata": {},
   "outputs": [],
   "source": [
    "def spam(x,y,k):\n",
    "    if x>y:\n",
    "        z=x\n",
    "    else:\n",
    "        z=y\n",
    "    p = z/k\n",
    "    return p #Only the value of p is returned by the function"
   ]
  },
  {
   "cell_type": "code",
   "execution_count": 8,
   "metadata": {},
   "outputs": [
    {
     "data": {
      "text/plain": [
       "3.0"
      ]
     },
     "execution_count": 8,
     "metadata": {},
     "output_type": "execute_result"
    }
   ],
   "source": [
    "spam(6,4,2)"
   ]
  },
  {
   "cell_type": "markdown",
   "metadata": {
    "collapsed": true
   },
   "source": [
    "<h3>If no return statement, python returns None </h3>"
   ]
  },
  {
   "cell_type": "code",
   "execution_count": 9,
   "metadata": {},
   "outputs": [
    {
     "name": "stdout",
     "output_type": "stream",
     "text": [
      "None\n"
     ]
    }
   ],
   "source": [
    "def eggs(x,y):\n",
    "    z = x/y\n",
    "\n",
    "print(eggs(4,2))  # There's no return."
   ]
  },
  {
   "cell_type": "markdown",
   "metadata": {},
   "source": [
    "<h3>Returning multiple values</h3>"
   ]
  },
  {
   "cell_type": "code",
   "execution_count": 27,
   "metadata": {},
   "outputs": [],
   "source": [
    "def foo(x,y,z):\n",
    "    if z==\"DESCENDING\":\n",
    "        return max(x,y),min(x,y),z\n",
    "    if z==\"ASCENDING\":\n",
    "        return min(x,y),max(x,y),z\n",
    "    else:\n",
    "        return x,y,z    "
   ]
  },
  {
   "cell_type": "code",
   "execution_count": 11,
   "metadata": {},
   "outputs": [
    {
     "name": "stdout",
     "output_type": "stream",
     "text": [
      "2 4 ASCENDING\n"
     ]
    }
   ],
   "source": [
    "a,b,c = foo(4,2,\"ASCENDING\")\n",
    "print(a,b,c)"
   ]
  },
  {
   "cell_type": "markdown",
   "metadata": {},
   "source": [
    "<h4>Python unpacks the returned value into each of a,b, and c. If there is only one identifier on the LHS, it won't unpack</h4>"
   ]
  },
  {
   "cell_type": "code",
   "execution_count": 12,
   "metadata": {},
   "outputs": [
    {
     "name": "stdout",
     "output_type": "stream",
     "text": [
      "(2, 4, 'ASCENDING')\n"
     ]
    }
   ],
   "source": [
    "a = foo(4,2,\"ASCENDING\")\n",
    "print(a)"
   ]
  },
  {
   "cell_type": "markdown",
   "metadata": {},
   "source": [
    "<h4>If there is a mismatch between the number of identifiers on the LHS and the number of values returned, you'll get an error</h4>"
   ]
  },
  {
   "cell_type": "code",
   "execution_count": 13,
   "metadata": {},
   "outputs": [],
   "source": [
    "# ValueError: too many values to unpack (expected 2)\n",
    "# a,b = foo(4,2,\"DESCENDING\")"
   ]
  },
  {
   "cell_type": "code",
   "execution_count": 25,
   "metadata": {},
   "outputs": [
    {
     "name": "stdout",
     "output_type": "stream",
     "text": [
      "4 2 DESCENDING\n",
      "4\n"
     ]
    }
   ],
   "source": [
    "a,b,c = foo(4,2,\"DESCENDING\")\n",
    "print(a,b,c)\n",
    "print(a)"
   ]
  },
  {
   "cell_type": "markdown",
   "metadata": {},
   "source": [
    "<h2>Value assignment to arguments</h2>\n",
    "<li>Left to right\n",
    "<li>Unless explicitly assigned to the argument identifiers in the function definition"
   ]
  },
  {
   "cell_type": "code",
   "execution_count": 15,
   "metadata": {},
   "outputs": [
    {
     "data": {
      "text/plain": [
       "2.0"
      ]
     },
     "execution_count": 15,
     "metadata": {},
     "output_type": "execute_result"
    }
   ],
   "source": [
    "def bar(x,y):\n",
    "    return x/y\n",
    "bar(4,2) #x takes the value 4 and y takes the value 2"
   ]
  },
  {
   "cell_type": "code",
   "execution_count": 16,
   "metadata": {},
   "outputs": [
    {
     "data": {
      "text/plain": [
       "0.5"
      ]
     },
     "execution_count": 16,
     "metadata": {},
     "output_type": "execute_result"
    }
   ],
   "source": [
    "def bar(x,y):\n",
    "    return x/y\n",
    "bar(y=4,x=2) #x takes the value 2 and y takes the value 4 (Explicit assignment)"
   ]
  },
  {
   "cell_type": "markdown",
   "metadata": {},
   "source": [
    "<h2>Functions can have default arguments</h2>"
   ]
  },
  {
   "cell_type": "code",
   "execution_count": 22,
   "metadata": {},
   "outputs": [],
   "source": [
    "def compute_return(x,y,z=0):\n",
    "    investment_return=(y-x)/x\n",
    "    if z and z==100:\n",
    "        investment_return * 100\n",
    "    return investment_return\n",
    "\n",
    "r1 = compute_return(1.2,91.2)  # z is 0\n",
    "r2 = compute_return(1.2,91.2,100)  # z is 100"
   ]
  },
  {
   "cell_type": "code",
   "execution_count": 23,
   "metadata": {},
   "outputs": [
    {
     "name": "stdout",
     "output_type": "stream",
     "text": [
      "75.0\n",
      "75.0\n"
     ]
    }
   ],
   "source": [
    "print(r1)\n",
    "print(r2)"
   ]
  },
  {
   "cell_type": "markdown",
   "metadata": {},
   "source": [
    "<h2>A function can have function arguments</h2>\n"
   ]
  },
  {
   "cell_type": "code",
   "execution_count": 17,
   "metadata": {},
   "outputs": [
    {
     "name": "stdout",
     "output_type": "stream",
     "text": [
      "2\n",
      "4\n"
     ]
    }
   ],
   "source": [
    "def order_by(a,b,order_function):\n",
    "    return order_function(a,b)\n",
    "\n",
    "print(order_by(4,2,min))\n",
    "print(order_by(4,2,max))"
   ]
  },
  {
   "cell_type": "code",
   "execution_count": 29,
   "metadata": {},
   "outputs": [
    {
     "name": "stdout",
     "output_type": "stream",
     "text": [
      "hello goodbye\n"
     ]
    }
   ],
   "source": [
    "order_by(\"hello\",\"goodbye\",print)"
   ]
  },
  {
   "cell_type": "code",
   "execution_count": 28,
   "metadata": {},
   "outputs": [
    {
     "data": {
      "text/plain": [
       "7"
      ]
     },
     "execution_count": 28,
     "metadata": {},
     "output_type": "execute_result"
    }
   ],
   "source": [
    "def order_by(a,b,order):\n",
    "    return order(a,b)\n",
    "order_by(4,7,max)  # order(a,b) => max(4,7)"
   ]
  },
  {
   "cell_type": "markdown",
   "metadata": {},
   "source": [
    "<h2>Passing arguments to a function</h2>"
   ]
  },
  {
   "cell_type": "code",
   "execution_count": 18,
   "metadata": {},
   "outputs": [
    {
     "name": "stdout",
     "output_type": "stream",
     "text": [
      "2 7\n"
     ]
    }
   ],
   "source": [
    "def minmax(x,y):\n",
    "    return min(x,y),max(x,y)\n",
    "x,y = minmax(7,2)\n",
    "print(x,y)"
   ]
  },
  {
   "cell_type": "code",
   "execution_count": 19,
   "metadata": {},
   "outputs": [
    {
     "name": "stdout",
     "output_type": "stream",
     "text": [
      "0.1\n"
     ]
    }
   ],
   "source": [
    "def div(x,y):\n",
    "    return x/y\n",
    "a = 30\n",
    "print(div(1,10))"
   ]
  },
  {
   "cell_type": "code",
   "execution_count": 20,
   "metadata": {},
   "outputs": [
    {
     "name": "stdout",
     "output_type": "stream",
     "text": [
      "3.0\n"
     ]
    }
   ],
   "source": [
    "def div(x,y):\n",
    "    return x/y\n",
    "\n",
    "x = 10\n",
    "y = 30\n",
    "print(div(y,x))"
   ]
  },
  {
   "cell_type": "code",
   "execution_count": 26,
   "metadata": {},
   "outputs": [
    {
     "name": "stdout",
     "output_type": "stream",
     "text": [
      "3.0\n",
      "0.3333333333333333\n"
     ]
    }
   ],
   "source": [
    "def div(x,y):\n",
    "    return x/y\n",
    "print(div(x=30,y=10))\n",
    "print(div(x=10,y=30))"
   ]
  }
 ],
 "metadata": {
  "anaconda-cloud": {},
  "kernelspec": {
   "display_name": "Python 3",
   "language": "python",
   "name": "python3"
  },
  "language_info": {
   "codemirror_mode": {
    "name": "ipython",
    "version": 3
   },
   "file_extension": ".py",
   "mimetype": "text/x-python",
   "name": "python",
   "nbconvert_exporter": "python",
   "pygments_lexer": "ipython3",
   "version": "3.8.3"
  }
 },
 "nbformat": 4,
 "nbformat_minor": 2
}
